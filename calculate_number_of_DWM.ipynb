{
 "cells": [
  {
   "cell_type": "code",
   "execution_count": 1,
   "metadata": {},
   "outputs": [],
   "source": [
    "import datetime\n",
    "import calendar"
   ]
  },
  {
   "cell_type": "code",
   "execution_count": 7,
   "metadata": {
    "tags": []
   },
   "outputs": [
    {
     "output_type": "stream",
     "name": "stdout",
     "text": "2020-08-01\n"
    }
   ],
   "source": [
    "balance = 5000\n",
    "interest_rate = 13 * .01\n",
    "monthly_payment = 500\n",
    "\n",
    "today = datetime.date.today()\n",
    "days_in_current_month = calendar.monthrange(today.year, today.month)[1]\n",
    "days_till_end_month = days_in_current_month - today.day\n",
    "\n",
    "start_date =  today + datetime.timedelta(days=days_till_end_month + 1)\n",
    "end_date = start_date\n",
    "\n",
    "print(start_date)\n"
   ]
  },
  {
   "cell_type": "code",
   "execution_count": 8,
   "metadata": {
    "tags": []
   },
   "outputs": [
    {
     "output_type": "stream",
     "name": "stdout",
     "text": "2020-08-01 4554.17\n2020-08-01 4103.51\n2020-08-01 3647.96\n2020-08-01 3187.48\n2020-08-01 2722.01\n2020-08-01 2251.5\n2020-08-01 1775.89\n2020-08-01 1295.13\n2020-08-01 809.16\n2020-08-01 317.93\n2020-08-01 0\n"
    }
   ],
   "source": [
    "while balance > 0:\n",
    "    interest_charge = (interest_rate / 12) * balance\n",
    "    balance += interest_charge\n",
    "    balance -= monthly_payment\n",
    "\n",
    "    balance = round(balance, 2)\n",
    "    if balance < 0:\n",
    "        balance = 0\n",
    "\n",
    "    print(end_date, balance)\n",
    "\n",
    "    days_in_current_month = calendar.monthrange(end_date.year, end_date.month)[1]\n",
    "    start_date = end_date + datetime.timedelta(days=days_in_current_month)"
   ]
  },
  {
   "cell_type": "code",
   "execution_count": 10,
   "metadata": {
    "tags": []
   },
   "outputs": [
    {
     "output_type": "stream",
     "name": "stdout",
     "text": "2021-01-09\nReached goal in 27 weeks\n"
    }
   ],
   "source": [
    "current_weight = 220\n",
    "goal_weight = 180\n",
    "avg_lbs_week = 1.5\n",
    "\n",
    "start_date = datetime.date.today()\n",
    "end_date = start_date\n",
    "\n",
    "while current_weight > goal_weight:\n",
    "    end_date += datetime.timedelta(days=7)\n",
    "    current_weight -= avg_lbs_week\n",
    "\n",
    "\n",
    "print(end_date)\n",
    "print(f\"Reached goal in {(end_date - start_date).days // 7} weeks\")"
   ]
  },
  {
   "cell_type": "code",
   "execution_count": null,
   "metadata": {},
   "outputs": [],
   "source": []
  }
 ],
 "metadata": {
  "language_info": {
   "codemirror_mode": {
    "name": "ipython",
    "version": 3
   },
   "file_extension": ".py",
   "mimetype": "text/x-python",
   "name": "python",
   "nbconvert_exporter": "python",
   "pygments_lexer": "ipython3",
   "version": 3
  },
  "orig_nbformat": 2,
  "kernelspec": {
   "name": "python_defaultSpec_1593833988265",
   "display_name": "Python 3.8.3 64-bit ('advance_env': conda)"
  }
 },
 "nbformat": 4,
 "nbformat_minor": 2
}