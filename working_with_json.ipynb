{
 "cells": [
  {
   "cell_type": "code",
   "execution_count": 2,
   "metadata": {},
   "outputs": [],
   "source": [
    "import json"
   ]
  },
  {
   "cell_type": "code",
   "execution_count": 11,
   "metadata": {
    "tags": []
   },
   "outputs": [],
   "source": [
    "people_string = '''\n",
    "{\n",
    "    \"people\":[\n",
    "        {\n",
    "            \"name\":\"John Smith\",\n",
    "            \"phone\":\"615-555-7164\",\n",
    "            \"emails\":[\"johnsmith@bogusemail.com\", \"john.smith@work-place.com\"],\n",
    "            \"has_liscense\":false\n",
    "        },\n",
    "        {\n",
    "            \"name\":\"Jane Doe\",\n",
    "            \"phone\":\"560-555-5153\",\n",
    "            \"emails\":null,\n",
    "            \"has_license\":true\n",
    "        }\n",
    "    ]\n",
    "}\n",
    "'''\n"
   ]
  },
  {
   "cell_type": "code",
   "execution_count": 23,
   "metadata": {
    "tags": []
   },
   "outputs": [
    {
     "output_type": "stream",
     "name": "stdout",
     "text": "{'people': [{'name': 'John Smith', 'phone': '615-555-7164', 'emails': ['johnsmith@bogusemail.com', 'john.smith@work-place.com'], 'has_liscense': False}, {'name': 'Jane Doe', 'phone': '560-555-5153', 'emails': None, 'has_license': True}]}\n"
    }
   ],
   "source": [
    "data = json.loads(people_string)\n",
    "print(data)"
   ]
  },
  {
   "cell_type": "code",
   "execution_count": 12,
   "metadata": {
    "tags": []
   },
   "outputs": [
    {
     "output_type": "stream",
     "name": "stdout",
     "text": "<class 'dict'>\n"
    }
   ],
   "source": [
    " print(type(data))"
   ]
  },
  {
   "cell_type": "code",
   "execution_count": 15,
   "metadata": {
    "tags": []
   },
   "outputs": [
    {
     "output_type": "stream",
     "name": "stdout",
     "text": "<class 'list'>\n"
    }
   ],
   "source": [
    "print(type(data[\"people\"]))"
   ]
  },
  {
   "cell_type": "code",
   "execution_count": 21,
   "metadata": {
    "tags": []
   },
   "outputs": [
    {
     "output_type": "stream",
     "name": "stdout",
     "text": "John Smith\nJane Doe\n"
    }
   ],
   "source": [
    "for person in data[\"people\"]:\n",
    "    print(person[\"name\"] )"
   ]
  },
  {
   "cell_type": "code",
   "execution_count": 24,
   "metadata": {
    "tags": []
   },
   "outputs": [
    {
     "output_type": "stream",
     "name": "stdout",
     "text": "{\n  \"people\": [\n    {\n      \"emails\": [\n        \"johnsmith@bogusemail.com\",\n        \"john.smith@work-place.com\"\n      ],\n      \"has_liscense\": false,\n      \"name\": \"John Smith\"\n    },\n    {\n      \"emails\": null,\n      \"has_license\": true,\n      \"name\": \"Jane Doe\"\n    }\n  ]\n}\n"
    }
   ],
   "source": [
    "for person in data[\"people\"]:\n",
    "    del person[\"phone\"]\n",
    "\n",
    "new_string = json.dumps(data, indent=2, sort_keys=True)\n",
    " \n",
    "print(new_string)"
   ]
  },
  {
   "cell_type": "code",
   "execution_count": 25,
   "metadata": {
    "tags": []
   },
   "outputs": [
    {
     "output_type": "stream",
     "name": "stdout",
     "text": "Alabama AL\nAlaska AK\nArizona AZ\nArkansas AR\nCalifornia CA\nColorado CO\nConnecticut CT\nDelaware DE\nFlorida FL\nGeorgia GA\nHawaii HI\nIdaho ID\nIllinois IL\nIndiana IN\nIowa IA\nKansas KS\nKentucky KY\nLouisiana LA\nMaine ME\nMaryland MD\nMassachusetts MA\nMichigan MI\nMinnesota MN\nMississippi MS\nMissouri MO\nMontana MT\nNebraska NE\nNevada NV\nNew Hampshire NH\nNew Jersey NJ\nNew Mexico NM\nNew York NY\nNorth Carolina NC\nNorth Dakota ND\nOhio OH\nOklahoma OK\nOregon OR\nPennsylvania PA\nRhode Island RI\nSouth Carolina SC\nSouth Dakota SD\nTennessee TN\nTexas TX\nUtah UT\nVermont VT\nVirginia VA\nWashington WA\nWest Virginia WV\nWisconsin WI\nWyoming WY\n"
    }
   ],
   "source": [
    "with open(\"states.json\") as f:\n",
    "    data = json.load(f)\n",
    "\n",
    "for state in data[\"states\"]:\n",
    "    print(state[\"name\"], state[\"abbreviation\"])"
   ]
  },
  {
   "cell_type": "code",
   "execution_count": 26,
   "metadata": {},
   "outputs": [],
   "source": [
    "for state in data[\"states\"]:\n",
    "    del state[\"area_codes\"]\n",
    "\n",
    "with open(\"new_states.json\", 'w') as f:\n",
    "    json.dump(data, f, indent=2)"
   ]
  },
  {
   "cell_type": "code",
   "execution_count": null,
   "metadata": {},
   "outputs": [],
   "source": []
  }
 ],
 "metadata": {
  "language_info": {
   "codemirror_mode": {
    "name": "ipython",
    "version": 3
   },
   "file_extension": ".py",
   "mimetype": "text/x-python",
   "name": "python",
   "nbconvert_exporter": "python",
   "pygments_lexer": "ipython3",
   "version": 3
  },
  "orig_nbformat": 2,
  "kernelspec": {
   "name": "python_defaultSpec_1593766667139",
   "display_name": "Python 3.8.3 64-bit ('advance_env': conda)"
  }
 },
 "nbformat": 4,
 "nbformat_minor": 2
}