{
 "cells": [
  {
   "cell_type": "code",
   "execution_count": 2,
   "metadata": {},
   "outputs": [],
   "source": [
    "f = open(\"sample.txt\", \"w\", encoding=\"utf-8\")\n",
    "f.write(\"这是一个测试文档\")\n",
    "f.close()"
   ]
  },
  {
   "cell_type": "code",
   "execution_count": 3,
   "metadata": {},
   "outputs": [],
   "source": [
    "with open(\"sample.txt\", \"w\", encoding=\"utf-8\") as f:\n",
    "    f.write(\"增加一些内容应该会覆盖掉以前的\")\n",
    "f.close()"
   ]
  },
  {
   "cell_type": "code",
   "execution_count": 4,
   "metadata": {
    "tags": []
   },
   "outputs": [
    {
     "output_type": "stream",
     "name": "stdout",
     "text": "True\n"
    }
   ],
   "source": [
    "class Open_File():\n",
    "\n",
    "    def __init__(self, filename, mode):\n",
    "        self.filename = filename\n",
    "        self.mode = mode\n",
    "\n",
    "    def __enter__(self):\n",
    "        self.file = open(self.filename, self.mode)\n",
    "        return self.file\n",
    "\n",
    "    def __exit__(self, exc_type, exc_val, traceback):\n",
    "        self.file.close()\n",
    "\n",
    "with Open_File(\"sample.txt\", 'w') as f:\n",
    "    f.write(\"testing\")\n",
    "\n",
    "print(f.closed)"
   ]
  },
  {
   "cell_type": "code",
   "execution_count": 5,
   "metadata": {
    "tags": []
   },
   "outputs": [
    {
     "output_type": "stream",
     "name": "stdout",
     "text": "True\n"
    }
   ],
   "source": [
    "from contextlib import contextmanager\n",
    "\n",
    "@contextmanager\n",
    "def open_file(file, mode):\n",
    "    f = open(file, mode)\n",
    "    yield f\n",
    "    f.close()\n",
    "\n",
    "with open_file(\"sample.txt\", \"w\") as f:\n",
    "    f.write(\"随机的文字，作为测试\")\n",
    "\n",
    "print(f.closed)"
   ]
  },
  {
   "cell_type": "code",
   "execution_count": 7,
   "metadata": {
    "tags": []
   },
   "outputs": [
    {
     "output_type": "stream",
     "name": "stdout",
     "text": "['todo.txt', 'work.txt', 'mydoc.txt']\n['demo.txt', 'test.txt', 'sample.txt']\n"
    }
   ],
   "source": [
    "import os \n",
    "from contextlib import contextmanager\n",
    "\n",
    "cwd = os.getcwd()\n",
    "os.chdir(\"Sample-Dir-One\")\n",
    "print(os.listdir())\n",
    "os.chdir(cwd)\n",
    "\n",
    "cwd = os.getcwd()\n",
    "os.chdir(\"Sample-Dir-Two\")\n",
    "print(os.listdir())\n",
    "os.chdir(cwd)\n",
    "\n"
   ]
  },
  {
   "cell_type": "code",
   "execution_count": 8,
   "metadata": {
    "tags": []
   },
   "outputs": [
    {
     "output_type": "stream",
     "name": "stdout",
     "text": "['todo.txt', 'work.txt', 'mydoc.txt']\n['demo.txt', 'test.txt', 'sample.txt']\n"
    }
   ],
   "source": [
    "@contextmanager\n",
    "def change_dir(destination):\n",
    "    try:\n",
    "        cwd = os.getcwd()\n",
    "        os.chdir(destination)\n",
    "        yield\n",
    "    finally:\n",
    "        os.chdir(cwd)\n",
    "\n",
    "with change_dir(\"Sample-Dir-One\"):\n",
    "    print(os.listdir())\n",
    "\n",
    "with change_dir(\"Sample-Dir-Two\"):\n",
    "    print(os.listdir())"
   ]
  },
  {
   "cell_type": "code",
   "execution_count": null,
   "metadata": {},
   "outputs": [],
   "source": []
  }
 ],
 "metadata": {
  "language_info": {
   "codemirror_mode": {
    "name": "ipython",
    "version": 3
   },
   "file_extension": ".py",
   "mimetype": "text/x-python",
   "name": "python",
   "nbconvert_exporter": "python",
   "pygments_lexer": "ipython3",
   "version": 3
  },
  "orig_nbformat": 2,
  "kernelspec": {
   "name": "python_defaultSpec_1593864774492",
   "display_name": "Python 3.8.3 64-bit ('advance_env': conda)"
  }
 },
 "nbformat": 4,
 "nbformat_minor": 2
}